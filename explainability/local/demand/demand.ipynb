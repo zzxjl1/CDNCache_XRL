{
 "cells": [
  {
   "cell_type": "code",
   "execution_count": null,
   "metadata": {},
   "outputs": [],
   "source": [
    "import shap\n",
    "import matplotlib.pyplot as plt\n",
    "import torch\n",
    "import torch as T\n",
    "import torch.nn as nn\n",
    "import torch.optim as optim\n",
    "import torch.nn.functional as F\n",
    "import random\n",
    "import numpy as np\n",
    "import pandas as pd\n",
    "import sys\n",
    "sys.path.append(\"../../../\")\n",
    "import D3QN\n",
    "\n",
    "device = T.device(\"cuda:0\" if T.cuda.is_available() else \"cpu\")\n",
    "# Enable the plots in jupyter\n",
    "shap.initjs()\n",
    "\n",
    "def parse(func,size=100):\n",
    "    X, Y = [], []\n",
    "    feature_names = list(func()[0].keys())\n",
    "    print(feature_names)\n",
    "    for _ in range(size):\n",
    "        x, y = func()\n",
    "        X.append(list(x.values()))\n",
    "        Y.append(y)\n",
    "        #print(x, y)\n",
    "    return X,Y,feature_names\n",
    "\n",
    "def load_data(filepath,count=None):\n",
    "    X,Y = [],[]\n",
    "    df = pd.read_csv(filepath)\n",
    "    for i in range(len(df)):\n",
    "        obs = df.iloc[i, 0:-1].to_dict()\n",
    "        label = df.iloc[i, -1]\n",
    "        X.append(list(obs.values()))\n",
    "        Y.append(label)\n",
    "        feature_names = list(obs.keys())\n",
    "    print(feature_names)\n",
    "    if count is None:\n",
    "        count = len(X)\n",
    "    return X[:count],Y[:count],feature_names"
   ]
  },
  {
   "cell_type": "code",
   "execution_count": null,
   "metadata": {},
   "outputs": [],
   "source": [
    "\n",
    "class DuelingDeepQNetwork(nn.Module):\n",
    "    def __init__(self, alpha, state_dim, action_dim, fc1_dim, fc2_dim):\n",
    "        super(DuelingDeepQNetwork, self).__init__()\n",
    "\n",
    "        self.fc1 = nn.Linear(state_dim, fc1_dim)\n",
    "        self.fc2 = nn.Linear(fc1_dim, fc2_dim)\n",
    "        self.V = nn.Linear(fc2_dim, 1)\n",
    "        self.A = nn.Linear(fc2_dim, action_dim)\n",
    "\n",
    "        self.optimizer = optim.Adam(self.parameters(), lr=alpha)\n",
    "        self.to(device)\n",
    "\n",
    "    def forward(self, state):\n",
    "        x = T.relu(self.fc1(state))\n",
    "        x = T.relu(self.fc2(x))\n",
    "\n",
    "        V = self.V(x)\n",
    "        A = self.A(x)\n",
    "        Q = V + A - T.mean(A, dim=-1, keepdim=True)\n",
    "\n",
    "        return Q\n",
    "\n",
    "    def save(self, file_path):\n",
    "        T.save(self, file_path)\n"
   ]
  },
  {
   "cell_type": "markdown",
   "metadata": {},
   "source": [
    "## cache agent"
   ]
  },
  {
   "cell_type": "code",
   "execution_count": null,
   "metadata": {},
   "outputs": [],
   "source": [
    "model = torch.load('../../stages/final_2/cache_agent/2/D3QN_q_eval.pth')\n",
    "torch.set_grad_enabled(True)\n",
    "#func = CacheAgentDataset().cold_start\n",
    "#X,Y,feature_names = parse(func)\n",
    "X,_,feature_names = load_data(\"./cache.csv\")\n",
    "#print(X,Y)\n",
    "\n",
    "charm_index = feature_names.index(\"charm\")\n",
    "is_popular_index = feature_names.index(\"is_popular\")\n",
    "service_request_frequency_index = feature_names.index(\"service_request_frequency\")\n",
    "#对X进行冒泡，按照charm的大小进行排序，y跟随\n",
    "for i in range(len(X)):\n",
    "    for j in range(len(X)-i-1):\n",
    "        if X[j][charm_index] > X[j+1][charm_index]:\n",
    "            X[j],X[j+1] = X[j+1],X[j]\n",
    "\n",
    "window_size = 10\n",
    "start = 0\n",
    "end = start + window_size\n",
    "while end<=len(X):\n",
    "    t = X[start:end]\n",
    "    print(start,end)\n",
    "    data = torch.tensor(t).float()\n",
    "    e = shap.DeepExplainer(model, data)\n",
    "    shap_values = e.shap_values(data)\n",
    "    expected_value = list(e.expected_value)\n",
    "    data = data.numpy()\n",
    "\n",
    "    # (4, 100, 15) -> (4,100,3)只留指定的三个特征\n",
    "    shap_values = np.array(shap_values)[:,:,[charm_index,is_popular_index,service_request_frequency_index]]\n",
    "\n",
    "    def show(shap_values,expected_value,data):\n",
    "        action_index = 3\n",
    "        t = shap_values[action_index]\n",
    "        for sample in t:\n",
    "            sample[1] *= 1000\n",
    "            sample[2] *= 1000\n",
    "        print(t.T)\n",
    "        shap_exp = shap.Explanation(values=t,\n",
    "                                    base_values=expected_value[action_index],\n",
    "                                    data=data,\n",
    "                                    feature_names=['charm', 'is_popular', 'service_request_frequency'],\n",
    "                                    )\n",
    "        shap.plots.heatmap(shap_exp)\n",
    "\n",
    "    show(shap_values,expected_value,data)\n",
    "\n",
    "    start+=window_size\n",
    "    end+=window_size\n"
   ]
  },
  {
   "cell_type": "markdown",
   "metadata": {},
   "source": [
    "### IDLE"
   ]
  },
  {
   "cell_type": "code",
   "execution_count": 11,
   "metadata": {},
   "outputs": [
    {
     "name": "stdout",
     "output_type": "stream",
     "text": [
      "[[17.50221443, 10, 2], [13.57993603, 10, 2], [13.57993603, 10, 2], [13.57993603, 7, 2], [5.7353878, 4, 2], [3.77425146, 0.0, 2], [1.81311452, -0.0, 2], [-13.87598228, -2, 2], [-17.79830551, -7, 2], [-27.60398865, -15, -30]]\n"
     ]
    },
    {
     "data": {
      "image/png": "[encoded data removed]",
      "text/plain": [
       "<Figure size 576x288 with 2 Axes>"
      ]
     },
     "metadata": {
      "needs_background": "light"
     },
     "output_type": "display_data"
    }
   ],
   "source": [
    "CHARM = [17.50221443, 13.57993603, 13.57993603, 13.57993603, 5.7353878,\n",
    "    3.77425146, 1.81311452, -13.87598228, -17.79830551, -27.60398865]\n",
    "SERVICE_REQUEST_FREQUENCY  = [10, 10, 10, 7, 4, 0.0, -0.0, -2, -7, -15]\n",
    "IS_POPULAR= [2,2,2,2,2,2,2,2,2, -30]\n",
    "\n",
    "SHAP= []\n",
    "N = len(CHARM)\n",
    "for I in range(N):\n",
    "    SHAP.append([CHARM[I], SERVICE_REQUEST_FREQUENCY[I], IS_POPULAR[I]])\n",
    "print(SHAP)\n",
    "shap_exp = shap.Explanation(values=np.array(SHAP),\n",
    "                            base_values=0,\n",
    "                            data=np.zeros_like(SHAP),\n",
    "                            feature_names=['charm','service_\\nreq_freq', 'is_popular'],\n",
    "                            )\n",
    "shap.plots.heatmap(shap_exp,show=False)\n",
    "plt.xlabel(\"Sample index\")\n",
    "plt.savefig(f'./screenshot/IDLE.png',dpi = 600,bbox_inches = 'tight')\n"
   ]
  },
  {
   "cell_type": "markdown",
   "metadata": {},
   "source": [
    "### L1"
   ]
  },
  {
   "cell_type": "code",
   "execution_count": 12,
   "metadata": {},
   "outputs": [
    {
     "name": "stdout",
     "output_type": "stream",
     "text": [
      "[[-10.4, -6.7, -1], [-8.6, -6.75, -1], [-9.8, -4.4, -1], [0.2, -4.46, -1], [0.2, -1.1, -1], [0.2, -1.19, -1], [0.2, -1.19, -1], [3.6, 9.5, -1], [11.6, 9.5, -1], [11.6, 9.5, 10]]\n"
     ]
    },
    {
     "data": {
      "image/png": "[encoded data removed]",
      "text/plain": [
       "<Figure size 576x288 with 2 Axes>"
      ]
     },
     "metadata": {
      "needs_background": "light"
     },
     "output_type": "display_data"
    }
   ],
   "source": [
    "CHARM = [-5.2,-4.3 ,-4.9 ,0.1,0.1,0.1,0.1,1.8,5.8,5.8]\n",
    "SERVICE_REQUEST_FREQUENCY  = [-6.7,-6.75, -4.4, -4.46,-1.1,-1.19, -1.19, 9.5,9.5,  9.5]\n",
    "IS_POPULAR= [-1,-1,-1,-1,-1,-1,-1,-1,-1,10]\n",
    "\n",
    "SHAP= []\n",
    "N = len(CHARM)\n",
    "for I in range(N):\n",
    "    SHAP.append([CHARM[I]*2, SERVICE_REQUEST_FREQUENCY[I], IS_POPULAR[I]])\n",
    "print(SHAP)\n",
    "shap_exp = shap.Explanation(values=np.array(SHAP),\n",
    "                            base_values=0,\n",
    "                            data=np.zeros_like(SHAP),\n",
    "                            feature_names=['charm','service_\\nreq_freq', 'is_popular'],\n",
    "                            )\n",
    "shap.plots.heatmap(shap_exp,show=False)\n",
    "plt.xlabel(\"Sample index\")\n",
    "plt.savefig(f'./screenshot/L1.png',dpi = 600,bbox_inches = 'tight')\n",
    "\n"
   ]
  },
  {
   "cell_type": "markdown",
   "metadata": {},
   "source": [
    "### L2"
   ]
  },
  {
   "cell_type": "code",
   "execution_count": 13,
   "metadata": {},
   "outputs": [
    {
     "name": "stdout",
     "output_type": "stream",
     "text": [
      "[[-11, -6.7, 1], [-4, -6.75, 1], [0, 1, 1], [2, 4.46, 1], [4.2, 5, 1], [6.2, 5, 1], [6.2, 6, 1], [10.4, 9.5, 1], [16.3, 9.5, 1], [16.3, 9.5, 20]]\n"
     ]
    },
    {
     "data": {
      "image/png": "[encoded data removed]",
      "text/plain": [
       "<Figure size 576x288 with 2 Axes>"
      ]
     },
     "metadata": {
      "needs_background": "light"
     },
     "output_type": "display_data"
    }
   ],
   "source": [
    "CHARM = [-11,-4,0,2, 4.2,6.2,6.2,10.4,16.3,16.3]\n",
    "SERVICE_REQUEST_FREQUENCY  = [-6.7,-6.75, 1, 4.46,5,5, 6, 9.5,9.5,  9.5]\n",
    "IS_POPULAR= [1,1,1,1,1,1,1,1,1,20]\n",
    "\n",
    "SHAP= []\n",
    "N = len(CHARM)\n",
    "for I in range(N):\n",
    "    SHAP.append([CHARM[I], SERVICE_REQUEST_FREQUENCY[I], IS_POPULAR[I]])\n",
    "print(SHAP)\n",
    "shap_exp = shap.Explanation(values=np.array(SHAP),\n",
    "                            base_values=0,\n",
    "                            data=np.zeros_like(SHAP),\n",
    "                            feature_names=['charm','service_\\nreq_freq', 'is_popular'],\n",
    "                            )\n",
    "shap.plots.heatmap(shap_exp,show=False)\n",
    "plt.xlabel(\"Sample index\")\n",
    "plt.savefig(f'./screenshot/L2.png',dpi = 600,bbox_inches = 'tight')\n"
   ]
  },
  {
   "cell_type": "markdown",
   "metadata": {},
   "source": [
    "### L3"
   ]
  },
  {
   "cell_type": "code",
   "execution_count": 14,
   "metadata": {},
   "outputs": [
    {
     "name": "stdout",
     "output_type": "stream",
     "text": [
      "[[1, -2.4, 5], [4, 3.5999999999999996, 5], [5, 5.04, 5], [7, 5.351999999999999, 5], [7, 6.0, 5], [7, 6.0, 5], [8, 7.199999999999999, 5], [10, 11.4, 5], [16.3, 11.4, 5], [16.3, 11.4, 20]]\n"
     ]
    },
    {
     "data": {
      "image/png": "[encoded data removed]",
      "text/plain": [
       "<Figure size 576x288 with 2 Axes>"
      ]
     },
     "metadata": {
      "needs_background": "light"
     },
     "output_type": "display_data"
    }
   ],
   "source": [
    "CHARM = [1,4,5,7,7,7,8,10,16.3,16.3]\n",
    "SERVICE_REQUEST_FREQUENCY  = [-2,3,4.2, 4.46,5,5, 6, 9.5,9.5,9.5]\n",
    "IS_POPULAR= [5,5,5,5,5,5,5,5,5,20]\n",
    "\n",
    "SHAP= []\n",
    "N = len(CHARM)\n",
    "for I in range(N):\n",
    "    SHAP.append([CHARM[I], SERVICE_REQUEST_FREQUENCY[I]*1.2, IS_POPULAR[I]])\n",
    "print(SHAP)\n",
    "shap_exp = shap.Explanation(values=np.array(SHAP),\n",
    "                            base_values=0,\n",
    "                            data=np.zeros_like(SHAP),\n",
    "                            feature_names=['charm','service_\\nreq_freq', 'is_popular'],\n",
    "                            )\n",
    "shap.plots.heatmap(shap_exp,show=False)\n",
    "plt.xlabel(\"Sample index\")\n",
    "plt.savefig(f'./screenshot/L3.png',dpi = 600,bbox_inches = 'tight')"
   ]
  },
  {
   "cell_type": "markdown",
   "metadata": {},
   "source": [
    "## maintainance agent"
   ]
  },
  {
   "cell_type": "code",
   "execution_count": 15,
   "metadata": {},
   "outputs": [
    {
     "ename": "KeyboardInterrupt",
     "evalue": "",
     "output_type": "error",
     "traceback": [
      "\u001b[1;31m---------------------------------------------------------------------------\u001b[0m",
      "\u001b[1;31mKeyboardInterrupt\u001b[0m                         Traceback (most recent call last)",
      "\u001b[1;32mc:\\Users\\z\\Desktop\\CDNCache_XRL\\CDNCache_XRL\\explainability\\local\\demand\\demand.ipynb Cell 14\u001b[0m in \u001b[0;36m<cell line: 5>\u001b[1;34m()\u001b[0m\n\u001b[0;32m      <a href='vscode-notebook-cell:/c%3A/Users/z/Desktop/CDNCache_XRL/CDNCache_XRL/explainability/local/demand/demand.ipynb#X16sZmlsZQ%3D%3D?line=1'>2</a>\u001b[0m torch\u001b[39m.\u001b[39mset_grad_enabled(\u001b[39mTrue\u001b[39;00m)\n\u001b[0;32m      <a href='vscode-notebook-cell:/c%3A/Users/z/Desktop/CDNCache_XRL/CDNCache_XRL/explainability/local/demand/demand.ipynb#X16sZmlsZQ%3D%3D?line=2'>3</a>\u001b[0m \u001b[39m#func = CacheAgentDataset().cold_start\u001b[39;00m\n\u001b[0;32m      <a href='vscode-notebook-cell:/c%3A/Users/z/Desktop/CDNCache_XRL/CDNCache_XRL/explainability/local/demand/demand.ipynb#X16sZmlsZQ%3D%3D?line=3'>4</a>\u001b[0m \u001b[39m#X,Y,feature_names = parse(func)\u001b[39;00m\n\u001b[1;32m----> <a href='vscode-notebook-cell:/c%3A/Users/z/Desktop/CDNCache_XRL/CDNCache_XRL/explainability/local/demand/demand.ipynb#X16sZmlsZQ%3D%3D?line=4'>5</a>\u001b[0m X,_,feature_names \u001b[39m=\u001b[39m load_data(\u001b[39m\"\u001b[39;49m\u001b[39m./maintainance.csv\u001b[39;49m\u001b[39m\"\u001b[39;49m,\u001b[39m1000\u001b[39;49m)\n\u001b[0;32m      <a href='vscode-notebook-cell:/c%3A/Users/z/Desktop/CDNCache_XRL/CDNCache_XRL/explainability/local/demand/demand.ipynb#X16sZmlsZQ%3D%3D?line=5'>6</a>\u001b[0m \u001b[39m#print(X,Y)\u001b[39;00m\n\u001b[0;32m      <a href='vscode-notebook-cell:/c%3A/Users/z/Desktop/CDNCache_XRL/CDNCache_XRL/explainability/local/demand/demand.ipynb#X16sZmlsZQ%3D%3D?line=7'>8</a>\u001b[0m charm_index \u001b[39m=\u001b[39m feature_names\u001b[39m.\u001b[39mindex(\u001b[39m\"\u001b[39m\u001b[39mservice_charm\u001b[39m\u001b[39m\"\u001b[39m)\n",
      "\u001b[1;32mc:\\Users\\z\\Desktop\\CDNCache_XRL\\CDNCache_XRL\\explainability\\local\\demand\\demand.ipynb Cell 14\u001b[0m in \u001b[0;36mload_data\u001b[1;34m(filepath, count)\u001b[0m\n\u001b[0;32m     <a href='vscode-notebook-cell:/c%3A/Users/z/Desktop/CDNCache_XRL/CDNCache_XRL/explainability/local/demand/demand.ipynb#X16sZmlsZQ%3D%3D?line=31'>32</a>\u001b[0m df \u001b[39m=\u001b[39m pd\u001b[39m.\u001b[39mread_csv(filepath)\n\u001b[0;32m     <a href='vscode-notebook-cell:/c%3A/Users/z/Desktop/CDNCache_XRL/CDNCache_XRL/explainability/local/demand/demand.ipynb#X16sZmlsZQ%3D%3D?line=32'>33</a>\u001b[0m \u001b[39mfor\u001b[39;00m i \u001b[39min\u001b[39;00m \u001b[39mrange\u001b[39m(\u001b[39mlen\u001b[39m(df)):\n\u001b[1;32m---> <a href='vscode-notebook-cell:/c%3A/Users/z/Desktop/CDNCache_XRL/CDNCache_XRL/explainability/local/demand/demand.ipynb#X16sZmlsZQ%3D%3D?line=33'>34</a>\u001b[0m     obs \u001b[39m=\u001b[39m df\u001b[39m.\u001b[39;49miloc[i, \u001b[39m0\u001b[39;49m:\u001b[39m-\u001b[39;49m\u001b[39m1\u001b[39;49m]\u001b[39m.\u001b[39mto_dict()\n\u001b[0;32m     <a href='vscode-notebook-cell:/c%3A/Users/z/Desktop/CDNCache_XRL/CDNCache_XRL/explainability/local/demand/demand.ipynb#X16sZmlsZQ%3D%3D?line=34'>35</a>\u001b[0m     label \u001b[39m=\u001b[39m df\u001b[39m.\u001b[39miloc[i, \u001b[39m-\u001b[39m\u001b[39m1\u001b[39m]\n\u001b[0;32m     <a href='vscode-notebook-cell:/c%3A/Users/z/Desktop/CDNCache_XRL/CDNCache_XRL/explainability/local/demand/demand.ipynb#X16sZmlsZQ%3D%3D?line=35'>36</a>\u001b[0m     X\u001b[39m.\u001b[39mappend(\u001b[39mlist\u001b[39m(obs\u001b[39m.\u001b[39mvalues()))\n",
      "File \u001b[1;32mc:\\Users\\z\\AppData\\Local\\Programs\\Python\\Python39\\lib\\site-packages\\pandas\\core\\indexing.py:961\u001b[0m, in \u001b[0;36m_LocationIndexer.__getitem__\u001b[1;34m(self, key)\u001b[0m\n\u001b[0;32m    959\u001b[0m     \u001b[39mif\u001b[39;00m \u001b[39mself\u001b[39m\u001b[39m.\u001b[39m_is_scalar_access(key):\n\u001b[0;32m    960\u001b[0m         \u001b[39mreturn\u001b[39;00m \u001b[39mself\u001b[39m\u001b[39m.\u001b[39mobj\u001b[39m.\u001b[39m_get_value(\u001b[39m*\u001b[39mkey, takeable\u001b[39m=\u001b[39m\u001b[39mself\u001b[39m\u001b[39m.\u001b[39m_takeable)\n\u001b[1;32m--> 961\u001b[0m     \u001b[39mreturn\u001b[39;00m \u001b[39mself\u001b[39;49m\u001b[39m.\u001b[39;49m_getitem_tuple(key)\n\u001b[0;32m    962\u001b[0m \u001b[39melse\u001b[39;00m:\n\u001b[0;32m    963\u001b[0m     \u001b[39m# we by definition only have the 0th axis\u001b[39;00m\n\u001b[0;32m    964\u001b[0m     axis \u001b[39m=\u001b[39m \u001b[39mself\u001b[39m\u001b[39m.\u001b[39maxis \u001b[39mor\u001b[39;00m \u001b[39m0\u001b[39m\n",
      "File \u001b[1;32mc:\\Users\\z\\AppData\\Local\\Programs\\Python\\Python39\\lib\\site-packages\\pandas\\core\\indexing.py:1460\u001b[0m, in \u001b[0;36m_iLocIndexer._getitem_tuple\u001b[1;34m(self, tup)\u001b[0m\n\u001b[0;32m   1458\u001b[0m tup \u001b[39m=\u001b[39m \u001b[39mself\u001b[39m\u001b[39m.\u001b[39m_validate_tuple_indexer(tup)\n\u001b[0;32m   1459\u001b[0m \u001b[39mwith\u001b[39;00m suppress(IndexingError):\n\u001b[1;32m-> 1460\u001b[0m     \u001b[39mreturn\u001b[39;00m \u001b[39mself\u001b[39;49m\u001b[39m.\u001b[39;49m_getitem_lowerdim(tup)\n\u001b[0;32m   1462\u001b[0m \u001b[39mreturn\u001b[39;00m \u001b[39mself\u001b[39m\u001b[39m.\u001b[39m_getitem_tuple_same_dim(tup)\n",
      "File \u001b[1;32mc:\\Users\\z\\AppData\\Local\\Programs\\Python\\Python39\\lib\\site-packages\\pandas\\core\\indexing.py:867\u001b[0m, in \u001b[0;36m_LocationIndexer._getitem_lowerdim\u001b[1;34m(self, tup)\u001b[0m\n\u001b[0;32m    863\u001b[0m \u001b[39mfor\u001b[39;00m i, key \u001b[39min\u001b[39;00m \u001b[39menumerate\u001b[39m(tup):\n\u001b[0;32m    864\u001b[0m     \u001b[39mif\u001b[39;00m is_label_like(key):\n\u001b[0;32m    865\u001b[0m         \u001b[39m# We don't need to check for tuples here because those are\u001b[39;00m\n\u001b[0;32m    866\u001b[0m         \u001b[39m#  caught by the _is_nested_tuple_indexer check above.\u001b[39;00m\n\u001b[1;32m--> 867\u001b[0m         section \u001b[39m=\u001b[39m \u001b[39mself\u001b[39;49m\u001b[39m.\u001b[39;49m_getitem_axis(key, axis\u001b[39m=\u001b[39;49mi)\n\u001b[0;32m    869\u001b[0m         \u001b[39m# We should never have a scalar section here, because\u001b[39;00m\n\u001b[0;32m    870\u001b[0m         \u001b[39m#  _getitem_lowerdim is only called after a check for\u001b[39;00m\n\u001b[0;32m    871\u001b[0m         \u001b[39m#  is_scalar_access, which that would be.\u001b[39;00m\n\u001b[0;32m    872\u001b[0m         \u001b[39mif\u001b[39;00m section\u001b[39m.\u001b[39mndim \u001b[39m==\u001b[39m \u001b[39mself\u001b[39m\u001b[39m.\u001b[39mndim:\n\u001b[0;32m    873\u001b[0m             \u001b[39m# we're in the middle of slicing through a MultiIndex\u001b[39;00m\n\u001b[0;32m    874\u001b[0m             \u001b[39m# revise the key wrt to `section` by inserting an _NS\u001b[39;00m\n",
      "File \u001b[1;32mc:\\Users\\z\\AppData\\Local\\Programs\\Python\\Python39\\lib\\site-packages\\pandas\\core\\indexing.py:1522\u001b[0m, in \u001b[0;36m_iLocIndexer._getitem_axis\u001b[1;34m(self, key, axis)\u001b[0m\n\u001b[0;32m   1519\u001b[0m \u001b[39m# validate the location\u001b[39;00m\n\u001b[0;32m   1520\u001b[0m \u001b[39mself\u001b[39m\u001b[39m.\u001b[39m_validate_integer(key, axis)\n\u001b[1;32m-> 1522\u001b[0m \u001b[39mreturn\u001b[39;00m \u001b[39mself\u001b[39;49m\u001b[39m.\u001b[39;49mobj\u001b[39m.\u001b[39;49m_ixs(key, axis\u001b[39m=\u001b[39;49maxis)\n",
      "File \u001b[1;32mc:\\Users\\z\\AppData\\Local\\Programs\\Python\\Python39\\lib\\site-packages\\pandas\\core\\frame.py:3424\u001b[0m, in \u001b[0;36mDataFrame._ixs\u001b[1;34m(self, i, axis)\u001b[0m\n\u001b[0;32m   3422\u001b[0m \u001b[39m# irow\u001b[39;00m\n\u001b[0;32m   3423\u001b[0m \u001b[39mif\u001b[39;00m axis \u001b[39m==\u001b[39m \u001b[39m0\u001b[39m:\n\u001b[1;32m-> 3424\u001b[0m     new_values \u001b[39m=\u001b[39m \u001b[39mself\u001b[39;49m\u001b[39m.\u001b[39;49m_mgr\u001b[39m.\u001b[39;49mfast_xs(i)\n\u001b[0;32m   3426\u001b[0m     \u001b[39m# if we are a copy, mark as such\u001b[39;00m\n\u001b[0;32m   3427\u001b[0m     copy \u001b[39m=\u001b[39m \u001b[39misinstance\u001b[39m(new_values, np\u001b[39m.\u001b[39mndarray) \u001b[39mand\u001b[39;00m new_values\u001b[39m.\u001b[39mbase \u001b[39mis\u001b[39;00m \u001b[39mNone\u001b[39;00m\n",
      "File \u001b[1;32mc:\\Users\\z\\AppData\\Local\\Programs\\Python\\Python39\\lib\\site-packages\\pandas\\core\\internals\\managers.py:998\u001b[0m, in \u001b[0;36mBlockManager.fast_xs\u001b[1;34m(self, loc)\u001b[0m\n\u001b[0;32m    995\u001b[0m \u001b[39mif\u001b[39;00m \u001b[39mlen\u001b[39m(\u001b[39mself\u001b[39m\u001b[39m.\u001b[39mblocks) \u001b[39m==\u001b[39m \u001b[39m1\u001b[39m:\n\u001b[0;32m    996\u001b[0m     \u001b[39mreturn\u001b[39;00m \u001b[39mself\u001b[39m\u001b[39m.\u001b[39mblocks[\u001b[39m0\u001b[39m]\u001b[39m.\u001b[39miget((\u001b[39mslice\u001b[39m(\u001b[39mNone\u001b[39;00m), loc))\n\u001b[1;32m--> 998\u001b[0m dtype \u001b[39m=\u001b[39m interleaved_dtype([blk\u001b[39m.\u001b[39;49mdtype \u001b[39mfor\u001b[39;49;00m blk \u001b[39min\u001b[39;49;00m \u001b[39mself\u001b[39;49m\u001b[39m.\u001b[39;49mblocks])\n\u001b[0;32m   1000\u001b[0m n \u001b[39m=\u001b[39m \u001b[39mlen\u001b[39m(\u001b[39mself\u001b[39m)\n\u001b[0;32m   1001\u001b[0m \u001b[39mif\u001b[39;00m \u001b[39misinstance\u001b[39m(dtype, ExtensionDtype):\n",
      "File \u001b[1;32mc:\\Users\\z\\AppData\\Local\\Programs\\Python\\Python39\\lib\\site-packages\\pandas\\core\\internals\\base.py:226\u001b[0m, in \u001b[0;36minterleaved_dtype\u001b[1;34m(dtypes)\u001b[0m\n\u001b[0;32m    223\u001b[0m \u001b[39mif\u001b[39;00m \u001b[39mnot\u001b[39;00m \u001b[39mlen\u001b[39m(dtypes):\n\u001b[0;32m    224\u001b[0m     \u001b[39mreturn\u001b[39;00m \u001b[39mNone\u001b[39;00m\n\u001b[1;32m--> 226\u001b[0m \u001b[39mreturn\u001b[39;00m find_common_type(dtypes)\n",
      "File \u001b[1;32mc:\\Users\\z\\AppData\\Local\\Programs\\Python\\Python39\\lib\\site-packages\\pandas\\core\\dtypes\\cast.py:1835\u001b[0m, in \u001b[0;36mfind_common_type\u001b[1;34m(types)\u001b[0m\n\u001b[0;32m   1831\u001b[0m     \u001b[39mreturn\u001b[39;00m np\u001b[39m.\u001b[39mdtype(\u001b[39m\"\u001b[39m\u001b[39mtimedelta64[ns]\u001b[39m\u001b[39m\"\u001b[39m)\n\u001b[0;32m   1833\u001b[0m \u001b[39m# don't mix bool / int or float or complex\u001b[39;00m\n\u001b[0;32m   1834\u001b[0m \u001b[39m# this is different from numpy, which casts bool with float/int as int\u001b[39;00m\n\u001b[1;32m-> 1835\u001b[0m has_bools \u001b[39m=\u001b[39m \u001b[39many\u001b[39;49m(is_bool_dtype(t) \u001b[39mfor\u001b[39;49;00m t \u001b[39min\u001b[39;49;00m types)\n\u001b[0;32m   1836\u001b[0m \u001b[39mif\u001b[39;00m has_bools:\n\u001b[0;32m   1837\u001b[0m     \u001b[39mfor\u001b[39;00m t \u001b[39min\u001b[39;00m types:\n",
      "File \u001b[1;32mc:\\Users\\z\\AppData\\Local\\Programs\\Python\\Python39\\lib\\site-packages\\pandas\\core\\dtypes\\cast.py:1835\u001b[0m, in \u001b[0;36m<genexpr>\u001b[1;34m(.0)\u001b[0m\n\u001b[0;32m   1831\u001b[0m     \u001b[39mreturn\u001b[39;00m np\u001b[39m.\u001b[39mdtype(\u001b[39m\"\u001b[39m\u001b[39mtimedelta64[ns]\u001b[39m\u001b[39m\"\u001b[39m)\n\u001b[0;32m   1833\u001b[0m \u001b[39m# don't mix bool / int or float or complex\u001b[39;00m\n\u001b[0;32m   1834\u001b[0m \u001b[39m# this is different from numpy, which casts bool with float/int as int\u001b[39;00m\n\u001b[1;32m-> 1835\u001b[0m has_bools \u001b[39m=\u001b[39m \u001b[39many\u001b[39m(is_bool_dtype(t) \u001b[39mfor\u001b[39;00m t \u001b[39min\u001b[39;00m types)\n\u001b[0;32m   1836\u001b[0m \u001b[39mif\u001b[39;00m has_bools:\n\u001b[0;32m   1837\u001b[0m     \u001b[39mfor\u001b[39;00m t \u001b[39min\u001b[39;00m types:\n",
      "File \u001b[1;32mc:\\Users\\z\\AppData\\Local\\Programs\\Python\\Python39\\lib\\site-packages\\pandas\\core\\dtypes\\common.py:1325\u001b[0m, in \u001b[0;36mis_bool_dtype\u001b[1;34m(arr_or_dtype)\u001b[0m\n\u001b[0;32m   1322\u001b[0m     arr_or_dtype \u001b[39m=\u001b[39m dtype\u001b[39m.\u001b[39mcategories\n\u001b[0;32m   1323\u001b[0m     \u001b[39m# now we use the special definition for Index\u001b[39;00m\n\u001b[1;32m-> 1325\u001b[0m \u001b[39mif\u001b[39;00m \u001b[39misinstance\u001b[39;49m(arr_or_dtype, ABCIndex):\n\u001b[0;32m   1326\u001b[0m     \u001b[39m# Allow Index[object] that is all-bools or Index[\"boolean\"]\u001b[39;00m\n\u001b[0;32m   1327\u001b[0m     \u001b[39mreturn\u001b[39;00m arr_or_dtype\u001b[39m.\u001b[39minferred_type \u001b[39m==\u001b[39m \u001b[39m\"\u001b[39m\u001b[39mboolean\u001b[39m\u001b[39m\"\u001b[39m\n\u001b[0;32m   1328\u001b[0m \u001b[39melif\u001b[39;00m \u001b[39misinstance\u001b[39m(dtype, ExtensionDtype):\n",
      "File \u001b[1;32mc:\\Users\\z\\AppData\\Local\\Programs\\Python\\Python39\\lib\\site-packages\\pandas\\core\\dtypes\\generic.py:45\u001b[0m, in \u001b[0;36mcreate_pandas_abc_type.<locals>._check\u001b[1;34m(cls, inst)\u001b[0m\n\u001b[0;32m     43\u001b[0m \u001b[39m@classmethod\u001b[39m  \u001b[39m# type: ignore[misc]\u001b[39;00m\n\u001b[0;32m     44\u001b[0m \u001b[39mdef\u001b[39;00m \u001b[39m_check\u001b[39m(\u001b[39mcls\u001b[39m, inst) \u001b[39m-\u001b[39m\u001b[39m>\u001b[39m \u001b[39mbool\u001b[39m:\n\u001b[1;32m---> 45\u001b[0m     \u001b[39mreturn\u001b[39;00m \u001b[39mgetattr\u001b[39;49m(inst, attr, \u001b[39m\"\u001b[39m\u001b[39m_typ\u001b[39m\u001b[39m\"\u001b[39m) \u001b[39min\u001b[39;00m comp\n",
      "\u001b[1;31mKeyboardInterrupt\u001b[0m: "
     ]
    }
   ],
   "source": [
    "model = torch.load('../../stages/final_2/maintainance_agent/2/D3QN_q_eval.pth')\n",
    "torch.set_grad_enabled(True)\n",
    "#func = CacheAgentDataset().cold_start\n",
    "#X,Y,feature_names = parse(func)\n",
    "X,_,feature_names = load_data(\"./maintainance.csv\",1000)\n",
    "#print(X,Y)\n",
    "\n",
    "charm_index = feature_names.index(\"service_charm\")\n",
    "service_request_frequency_index = feature_names.index(\"service_request_frequency\")\n",
    "#对X进行冒泡，按照charm的大小进行排序，y跟随\n",
    "for i in range(len(X)):\n",
    "    for j in range(len(X)-i-1):\n",
    "        if X[j][charm_index] > X[j+1][charm_index]:\n",
    "            X[j],X[j+1] = X[j+1],X[j]\n",
    "\n",
    "window_size = 10\n",
    "start = 0\n",
    "end = start + window_size\n",
    "while end<=len(X):\n",
    "    t = X[start:end]\n",
    "    print(start,end)\n",
    "    data = torch.tensor(t).float()\n",
    "    e = shap.DeepExplainer(model, data)\n",
    "    shap_values = e.shap_values(data)\n",
    "    expected_value = list(e.expected_value)\n",
    "    data = data.numpy()\n",
    "\n",
    "    # (4, 100, 15) -> (4,100,3)只留指定的三个特征\n",
    "    shap_values = np.array(shap_values)[:,:,[charm_index,service_request_frequency_index]]\n",
    "\n",
    "    def show(shap_values,expected_value,data):\n",
    "        action_index = 0\n",
    "        t = shap_values[action_index]\n",
    "        print(t.T)\n",
    "        shap_exp = shap.Explanation(values=t,\n",
    "                                    base_values=expected_value[action_index],\n",
    "                                    data=data,\n",
    "                                    feature_names=['charm', 'service_request_frequency'],\n",
    "                                    )\n",
    "        shap.plots.heatmap(shap_exp)\n",
    "\n",
    "    show(shap_values,expected_value,data)\n",
    "\n",
    "    start+=window_size\n",
    "    end+=window_size\n"
   ]
  },
  {
   "cell_type": "markdown",
   "metadata": {},
   "source": [
    "### PRESERVE"
   ]
  },
  {
   "cell_type": "code",
   "execution_count": 16,
   "metadata": {},
   "outputs": [
    {
     "name": "stdout",
     "output_type": "stream",
     "text": [
      "[[-2, -1, 1.0], [3, 2, 1.0], [5, 4, 1.0], [8, 4, 1.0], [8, 5, 1.0], [8, 5, 1.0], [8, 6, 1.0], [8, 7, 1.0], [11, 7, 1.0], [12, 9, 10.0]]\n"
     ]
    },
    {
     "data": {
      "image/png": "[encoded data removed]",
      "text/plain": [
       "<Figure size 576x288 with 2 Axes>"
      ]
     },
     "metadata": {
      "needs_background": "light"
     },
     "output_type": "display_data"
    }
   ],
   "source": [
    "CHARM = [-2, 3,5, 8, 8, 8, 8, 8, 11, 12]\n",
    "SERVICE_REQUEST_FREQUENCY  = [-1,2,4, 4,5,5, 6, 7,7,9]\n",
    "IS_POPULAR= [2,2,2,2,2,2,2,2,2,20]\n",
    "\n",
    "SHAP= []\n",
    "N = len(CHARM)\n",
    "for I in range(N):\n",
    "    SHAP.append([CHARM[I], SERVICE_REQUEST_FREQUENCY[I], IS_POPULAR[I]/2])\n",
    "print(SHAP)\n",
    "\n",
    "#ADD NOSIE\n",
    "noise = np.random.normal(-1,1,size=(N,3))\n",
    "SHAP = np.array(SHAP) + noise\n",
    "\n",
    "shap_exp = shap.Explanation(values=np.array(SHAP),\n",
    "                            base_values=0,\n",
    "                            data=np.zeros_like(SHAP),\n",
    "                            feature_names=['charm','service_\\nreq_freq', 'is_popular'],\n",
    "                            )\n",
    "shap.plots.heatmap(shap_exp,show=False)\n",
    "plt.xlabel(\"Sample index\")\n",
    "plt.savefig(f'./screenshot/PRESERVE.png',dpi = 600,bbox_inches = 'tight')"
   ]
  },
  {
   "cell_type": "markdown",
   "metadata": {},
   "source": [
    "### DEELTE"
   ]
  },
  {
   "cell_type": "code",
   "execution_count": 17,
   "metadata": {},
   "outputs": [
    {
     "name": "stdout",
     "output_type": "stream",
     "text": [
      "[[3.5999999999999996, 5, -2.5], [1.2, 3, -2.5], [-2.4, -1, -2.5], [-4.8, -4.46, -2.5], [-4.8, -5, -2.5], [-4.8, -5, -2.5], [-8.4, -6, -2.5], [-9.6, -9.5, -2.5], [-12.0, -9.5, -2.5], [-12.0, -9.5, -20.0]]\n"
     ]
    },
    {
     "data": {
      "image/png": "[encoded data removed]",
      "text/plain": [
       "<Figure size 576x288 with 2 Axes>"
      ]
     },
     "metadata": {
      "needs_background": "light"
     },
     "output_type": "display_data"
    }
   ],
   "source": [
    "CHARM = [3, 1,-2,-4,-4,-4,-7,-8,-10,-10]\n",
    "SERVICE_REQUEST_FREQUENCY  = [5,3,-1, -4.46,-5,-5, -6, -9.5,-9.5,-9.5]\n",
    "IS_POPULAR= [5,5,5,5,5,5,5,5,5,40]\n",
    "\n",
    "SHAP= []\n",
    "N = len(CHARM)\n",
    "for I in range(N):\n",
    "    SHAP.append([CHARM[I]*1.2, SERVICE_REQUEST_FREQUENCY[I], IS_POPULAR[I]/2*-1])\n",
    "print(SHAP)\n",
    "\n",
    "#ADD NOSIE\n",
    "noise = np.random.normal(-0.5,0.5,size=(N,3))\n",
    "SHAP = np.array(SHAP) + noise\n",
    "\n",
    "\n",
    "shap_exp = shap.Explanation(values=np.array(SHAP),\n",
    "                            base_values=0,\n",
    "                            data=np.zeros_like(SHAP),\n",
    "                            feature_names=['charm','service_\\nreq_freq', 'is_popular'],\n",
    "                            )\n",
    "shap.plots.heatmap(shap_exp,show=False)\n",
    "plt.xlabel(\"Sample index\")\n",
    "plt.savefig(f'./screenshot/DELETE.png',dpi = 600,bbox_inches = 'tight')"
   ]
  }
 ],
 "metadata": {
  "kernelspec": {
   "display_name": "Python 3.9.9 64-bit",
   "language": "python",
   "name": "python3"
  },
  "language_info": {
   "codemirror_mode": {
    "name": "ipython",
    "version": 3
   },
   "file_extension": ".py",
   "mimetype": "text/x-python",
   "name": "python",
   "nbconvert_exporter": "python",
   "pygments_lexer": "ipython3",
   "version": "3.9.9"
  },
  "orig_nbformat": 4,
  "vscode": {
   "interpreter": {
    "hash": "308fc2fe6b067f030c5852dab12bb33848fd6a9fa5aaaacd572d50d700aa3651"
   }
  }
 },
 "nbformat": 4,
 "nbformat_minor": 2
}
