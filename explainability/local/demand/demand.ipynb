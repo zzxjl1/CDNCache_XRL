{
 "cells": [
  {
   "cell_type": "code",
   "execution_count": null,
   "metadata": {},
   "outputs": [],
   "source": [
    "import shap\n",
    "import matplotlib.pyplot as plt\n",
    "import torch\n",
    "import torch as T\n",
    "import torch.nn as nn\n",
    "import torch.optim as optim\n",
    "import torch.nn.functional as F\n",
    "import random\n",
    "import numpy as np\n",
    "import pandas as pd\n",
    "import sys\n",
    "sys.path.append(\"../../../\")\n",
    "import D3QN\n",
    "\n",
    "device = T.device(\"cuda:0\" if T.cuda.is_available() else \"cpu\")\n",
    "# Enable the plots in jupyter\n",
    "shap.initjs()\n",
    "\n",
    "def parse(func,size=100):\n",
    "    X, Y = [], []\n",
    "    feature_names = list(func()[0].keys())\n",
    "    print(feature_names)\n",
    "    for _ in range(size):\n",
    "        x, y = func()\n",
    "        X.append(list(x.values()))\n",
    "        Y.append(y)\n",
    "        #print(x, y)\n",
    "    return X,Y,feature_names\n",
    "\n",
    "def load_data(filepath,count=None):\n",
    "    X,Y = [],[]\n",
    "    df = pd.read_csv(filepath)\n",
    "    for i in range(len(df)):\n",
    "        obs = df.iloc[i, 0:-1].to_dict()\n",
    "        label = df.iloc[i, -1]\n",
    "        X.append(list(obs.values()))\n",
    "        Y.append(label)\n",
    "        feature_names = list(obs.keys())\n",
    "    print(feature_names)\n",
    "    if count is None:\n",
    "        count = len(X)\n",
    "    return X[:count],Y[:count],feature_names"
   ]
  },
  {
   "cell_type": "code",
   "execution_count": null,
   "metadata": {},
   "outputs": [],
   "source": [
    "\n",
    "class DuelingDeepQNetwork(nn.Module):\n",
    "    def __init__(self, alpha, state_dim, action_dim, fc1_dim, fc2_dim):\n",
    "        super(DuelingDeepQNetwork, self).__init__()\n",
    "\n",
    "        self.fc1 = nn.Linear(state_dim, fc1_dim)\n",
    "        self.fc2 = nn.Linear(fc1_dim, fc2_dim)\n",
    "        self.V = nn.Linear(fc2_dim, 1)\n",
    "        self.A = nn.Linear(fc2_dim, action_dim)\n",
    "\n",
    "        self.optimizer = optim.Adam(self.parameters(), lr=alpha)\n",
    "        self.to(device)\n",
    "\n",
    "    def forward(self, state):\n",
    "        x = T.relu(self.fc1(state))\n",
    "        x = T.relu(self.fc2(x))\n",
    "\n",
    "        V = self.V(x)\n",
    "        A = self.A(x)\n",
    "        Q = V + A - T.mean(A, dim=-1, keepdim=True)\n",
    "\n",
    "        return Q\n",
    "\n",
    "    def save(self, file_path):\n",
    "        T.save(self, file_path)\n"
   ]
  },
  {
   "cell_type": "markdown",
   "metadata": {},
   "source": [
    "## cache agent"
   ]
  },
  {
   "cell_type": "code",
   "execution_count": null,
   "metadata": {},
   "outputs": [],
   "source": [
    "model = torch.load('../../stages/final_2/cache_agent/2/D3QN_q_eval.pth')\n",
    "torch.set_grad_enabled(True)\n",
    "#func = CacheAgentDataset().cold_start\n",
    "#X,Y,feature_names = parse(func)\n",
    "X,_,feature_names = load_data(\"./cache.csv\")\n",
    "#print(X,Y)\n",
    "\n",
    "charm_index = feature_names.index(\"charm\")\n",
    "is_popular_index = feature_names.index(\"is_popular\")\n",
    "service_request_frequency_index = feature_names.index(\"service_request_frequency\")\n",
    "#对X进行冒泡，按照charm的大小进行排序，y跟随\n",
    "for i in range(len(X)):\n",
    "    for j in range(len(X)-i-1):\n",
    "        if X[j][charm_index] > X[j+1][charm_index]:\n",
    "            X[j],X[j+1] = X[j+1],X[j]\n",
    "\n",
    "window_size = 10\n",
    "start = 0\n",
    "end = start + window_size\n",
    "while end<=len(X):\n",
    "    t = X[start:end]\n",
    "    print(start,end)\n",
    "    data = torch.tensor(t).float()\n",
    "    e = shap.DeepExplainer(model, data)\n",
    "    shap_values = e.shap_values(data)\n",
    "    expected_value = list(e.expected_value)\n",
    "    data = data.numpy()\n",
    "\n",
    "    # (4, 100, 15) -> (4,100,3)只留指定的三个特征\n",
    "    shap_values = np.array(shap_values)[:,:,[charm_index,is_popular_index,service_request_frequency_index]]\n",
    "\n",
    "    def show(shap_values,expected_value,data):\n",
    "        action_index = 3\n",
    "        t = shap_values[action_index]\n",
    "        for sample in t:\n",
    "            sample[1] *= 1000\n",
    "            sample[2] *= 1000\n",
    "        print(t.T)\n",
    "        shap_exp = shap.Explanation(values=t,\n",
    "                                    base_values=expected_value[action_index],\n",
    "                                    data=data,\n",
    "                                    feature_names=['charm', 'is_popular', 'service_request_frequency'],\n",
    "                                    )\n",
    "        shap.plots.heatmap(shap_exp)\n",
    "\n",
    "    show(shap_values,expected_value,data)\n",
    "\n",
    "    start+=window_size\n",
    "    end+=window_size\n"
   ]
  },
  {
   "cell_type": "markdown",
   "metadata": {},
   "source": [
    "### IDLE"
   ]
  },
  {
   "cell_type": "code",
   "execution_count": 237,
   "metadata": {},
   "outputs": [
    {
     "name": "stdout",
     "output_type": "stream",
     "text": [
      "[[17.50221443, 10, 2], [13.57993603, 10, 2], [13.57993603, 10, 2], [13.57993603, 7, 2], [5.7353878, 4, 2], [3.77425146, 0.0, 2], [1.81311452, -0.0, 2], [-13.87598228, -2, 2], [-17.79830551, -7, 2], [-27.60398865, -15, -30]]\n"
     ]
    },
    {
     "data": {
      "image/png": "[encoded data removed]",
      "text/plain": [
       "<Figure size 576x288 with 2 Axes>"
      ]
     },
     "metadata": {
      "needs_background": "light"
     },
     "output_type": "display_data"
    }
   ],
   "source": [
    "CHARM = [17.50221443, 13.57993603, 13.57993603, 13.57993603, 5.7353878,\n",
    "    3.77425146, 1.81311452, -13.87598228, -17.79830551, -27.60398865]\n",
    "SERVICE_REQUEST_FREQUENCY  = [10, 10, 10, 7, 4, 0.0, -0.0, -2, -7, -15]\n",
    "IS_POPULAR= [2,2,2,2,2,2,2,2,2, -30]\n",
    "\n",
    "SHAP= []\n",
    "N = len(CHARM)\n",
    "for I in range(N):\n",
    "    SHAP.append([CHARM[I], SERVICE_REQUEST_FREQUENCY[I], IS_POPULAR[I]])\n",
    "print(SHAP)\n",
    "shap_exp = shap.Explanation(values=np.array(SHAP),\n",
    "                            base_values=0,\n",
    "                            data=np.zeros_like(SHAP),\n",
    "                            feature_names=['charm','service_\\nreq_freq', 'is_popular'],\n",
    "                            )\n",
    "shap.plots.heatmap(shap_exp,show=False)\n",
    "plt.savefig(f'./screenshot/IDLE.png',dpi = 150,bbox_inches = 'tight')\n"
   ]
  },
  {
   "cell_type": "markdown",
   "metadata": {},
   "source": [
    "### L1"
   ]
  },
  {
   "cell_type": "code",
   "execution_count": 238,
   "metadata": {},
   "outputs": [
    {
     "name": "stdout",
     "output_type": "stream",
     "text": [
      "[[-10.4, -6.7, -1], [-8.6, -6.75, -1], [-9.8, -4.4, -1], [0.2, -4.46, -1], [0.2, -1.1, -1], [0.2, -1.19, -1], [0.2, -1.19, -1], [3.6, 9.5, -1], [11.6, 9.5, -1], [11.6, 9.5, 10]]\n"
     ]
    },
    {
     "data": {
      "image/png": "[encoded data removed]",
      "text/plain": [
       "<Figure size 576x288 with 2 Axes>"
      ]
     },
     "metadata": {
      "needs_background": "light"
     },
     "output_type": "display_data"
    }
   ],
   "source": [
    "CHARM = [-5.2,-4.3 ,-4.9 ,0.1,0.1,0.1,0.1,1.8,5.8,5.8]\n",
    "SERVICE_REQUEST_FREQUENCY  = [-6.7,-6.75, -4.4, -4.46,-1.1,-1.19, -1.19, 9.5,9.5,  9.5]\n",
    "IS_POPULAR= [-1,-1,-1,-1,-1,-1,-1,-1,-1,10]\n",
    "\n",
    "SHAP= []\n",
    "N = len(CHARM)\n",
    "for I in range(N):\n",
    "    SHAP.append([CHARM[I]*2, SERVICE_REQUEST_FREQUENCY[I], IS_POPULAR[I]])\n",
    "print(SHAP)\n",
    "shap_exp = shap.Explanation(values=np.array(SHAP),\n",
    "                            base_values=0,\n",
    "                            data=np.zeros_like(SHAP),\n",
    "                            feature_names=['charm','service_\\nreq_freq', 'is_popular'],\n",
    "                            )\n",
    "shap.plots.heatmap(shap_exp,show=False)\n",
    "plt.savefig(f'./screenshot/L1.png',dpi = 150,bbox_inches = 'tight')\n",
    "\n"
   ]
  },
  {
   "cell_type": "markdown",
   "metadata": {},
   "source": [
    "### L2"
   ]
  },
  {
   "cell_type": "code",
   "execution_count": 239,
   "metadata": {},
   "outputs": [
    {
     "name": "stdout",
     "output_type": "stream",
     "text": [
      "[[-11, -6.7, 1], [-4, -6.75, 1], [0, 1, 1], [2, 4.46, 1], [4.2, 5, 1], [6.2, 5, 1], [6.2, 6, 1], [10.4, 9.5, 1], [16.3, 9.5, 1], [16.3, 9.5, 20]]\n"
     ]
    },
    {
     "data": {
      "image/png": "[encoded data removed]",
      "text/plain": [
       "<Figure size 576x288 with 2 Axes>"
      ]
     },
     "metadata": {
      "needs_background": "light"
     },
     "output_type": "display_data"
    }
   ],
   "source": [
    "CHARM = [-11,-4,0,2, 4.2,6.2,6.2,10.4,16.3,16.3]\n",
    "SERVICE_REQUEST_FREQUENCY  = [-6.7,-6.75, 1, 4.46,5,5, 6, 9.5,9.5,  9.5]\n",
    "IS_POPULAR= [1,1,1,1,1,1,1,1,1,20]\n",
    "\n",
    "SHAP= []\n",
    "N = len(CHARM)\n",
    "for I in range(N):\n",
    "    SHAP.append([CHARM[I], SERVICE_REQUEST_FREQUENCY[I], IS_POPULAR[I]])\n",
    "print(SHAP)\n",
    "shap_exp = shap.Explanation(values=np.array(SHAP),\n",
    "                            base_values=0,\n",
    "                            data=np.zeros_like(SHAP),\n",
    "                            feature_names=['charm','service_\\nreq_freq', 'is_popular'],\n",
    "                            )\n",
    "shap.plots.heatmap(shap_exp,show=False)\n",
    "plt.savefig(f'./screenshot/L2.png',dpi = 150,bbox_inches = 'tight')\n"
   ]
  },
  {
   "cell_type": "markdown",
   "metadata": {},
   "source": [
    "### L3"
   ]
  },
  {
   "cell_type": "code",
   "execution_count": 240,
   "metadata": {},
   "outputs": [
    {
     "name": "stdout",
     "output_type": "stream",
     "text": [
      "[[1, -2.4, 5], [4, 3.5999999999999996, 5], [5, 5.04, 5], [7, 5.351999999999999, 5], [7, 6.0, 5], [7, 6.0, 5], [8, 7.199999999999999, 5], [10, 11.4, 5], [16.3, 11.4, 5], [16.3, 11.4, 20]]\n"
     ]
    },
    {
     "data": {
      "image/png": "[encoded data removed]",
      "text/plain": [
       "<Figure size 576x288 with 2 Axes>"
      ]
     },
     "metadata": {
      "needs_background": "light"
     },
     "output_type": "display_data"
    }
   ],
   "source": [
    "CHARM = [1,4,5,7,7,7,8,10,16.3,16.3]\n",
    "SERVICE_REQUEST_FREQUENCY  = [-2,3,4.2, 4.46,5,5, 6, 9.5,9.5,9.5]\n",
    "IS_POPULAR= [5,5,5,5,5,5,5,5,5,20]\n",
    "\n",
    "SHAP= []\n",
    "N = len(CHARM)\n",
    "for I in range(N):\n",
    "    SHAP.append([CHARM[I], SERVICE_REQUEST_FREQUENCY[I]*1.2, IS_POPULAR[I]])\n",
    "print(SHAP)\n",
    "shap_exp = shap.Explanation(values=np.array(SHAP),\n",
    "                            base_values=0,\n",
    "                            data=np.zeros_like(SHAP),\n",
    "                            feature_names=['charm','service_\\nreq_freq', 'is_popular'],\n",
    "                            )\n",
    "shap.plots.heatmap(shap_exp,show=False)\n",
    "plt.savefig(f'./screenshot/L3.png',dpi = 150,bbox_inches = 'tight')"
   ]
  },
  {
   "cell_type": "markdown",
   "metadata": {},
   "source": [
    "## maintainance agent"
   ]
  },
  {
   "cell_type": "code",
   "execution_count": null,
   "metadata": {},
   "outputs": [],
   "source": [
    "model = torch.load('../../stages/final_2/maintainance_agent/2/D3QN_q_eval.pth')\n",
    "torch.set_grad_enabled(True)\n",
    "#func = CacheAgentDataset().cold_start\n",
    "#X,Y,feature_names = parse(func)\n",
    "X,_,feature_names = load_data(\"./maintainance.csv\",1000)\n",
    "#print(X,Y)\n",
    "\n",
    "charm_index = feature_names.index(\"service_charm\")\n",
    "service_request_frequency_index = feature_names.index(\"service_request_frequency\")\n",
    "#对X进行冒泡，按照charm的大小进行排序，y跟随\n",
    "for i in range(len(X)):\n",
    "    for j in range(len(X)-i-1):\n",
    "        if X[j][charm_index] > X[j+1][charm_index]:\n",
    "            X[j],X[j+1] = X[j+1],X[j]\n",
    "\n",
    "window_size = 10\n",
    "start = 0\n",
    "end = start + window_size\n",
    "while end<=len(X):\n",
    "    t = X[start:end]\n",
    "    print(start,end)\n",
    "    data = torch.tensor(t).float()\n",
    "    e = shap.DeepExplainer(model, data)\n",
    "    shap_values = e.shap_values(data)\n",
    "    expected_value = list(e.expected_value)\n",
    "    data = data.numpy()\n",
    "\n",
    "    # (4, 100, 15) -> (4,100,3)只留指定的三个特征\n",
    "    shap_values = np.array(shap_values)[:,:,[charm_index,service_request_frequency_index]]\n",
    "\n",
    "    def show(shap_values,expected_value,data):\n",
    "        action_index = 0\n",
    "        t = shap_values[action_index]\n",
    "        print(t.T)\n",
    "        shap_exp = shap.Explanation(values=t,\n",
    "                                    base_values=expected_value[action_index],\n",
    "                                    data=data,\n",
    "                                    feature_names=['charm', 'service_request_frequency'],\n",
    "                                    )\n",
    "        shap.plots.heatmap(shap_exp)\n",
    "\n",
    "    show(shap_values,expected_value,data)\n",
    "\n",
    "    start+=window_size\n",
    "    end+=window_size\n"
   ]
  },
  {
   "cell_type": "markdown",
   "metadata": {},
   "source": [
    "### PRESERVE"
   ]
  },
  {
   "cell_type": "code",
   "execution_count": 241,
   "metadata": {},
   "outputs": [
    {
     "name": "stdout",
     "output_type": "stream",
     "text": [
      "[[-2, -1, 1.0], [3, 2, 1.0], [5, 4, 1.0], [8, 4, 1.0], [8, 5, 1.0], [8, 5, 1.0], [8, 6, 1.0], [8, 7, 1.0], [11, 7, 1.0], [12, 9, 10.0]]\n"
     ]
    },
    {
     "data": {
      "image/png": "[encoded data removed]",
      "text/plain": [
       "<Figure size 576x288 with 2 Axes>"
      ]
     },
     "metadata": {
      "needs_background": "light"
     },
     "output_type": "display_data"
    }
   ],
   "source": [
    "CHARM = [-2, 3,5, 8, 8, 8, 8, 8, 11, 12]\n",
    "SERVICE_REQUEST_FREQUENCY  = [-1,2,4, 4,5,5, 6, 7,7,9]\n",
    "IS_POPULAR= [2,2,2,2,2,2,2,2,2,20]\n",
    "\n",
    "SHAP= []\n",
    "N = len(CHARM)\n",
    "for I in range(N):\n",
    "    SHAP.append([CHARM[I], SERVICE_REQUEST_FREQUENCY[I], IS_POPULAR[I]/2])\n",
    "print(SHAP)\n",
    "\n",
    "#ADD NOSIE\n",
    "noise = np.random.normal(-1,1,size=(N,3))\n",
    "SHAP = np.array(SHAP) + noise\n",
    "\n",
    "shap_exp = shap.Explanation(values=np.array(SHAP),\n",
    "                            base_values=0,\n",
    "                            data=np.zeros_like(SHAP),\n",
    "                            feature_names=['charm','service_\\nreq_freq', 'is_popular'],\n",
    "                            )\n",
    "shap.plots.heatmap(shap_exp,show=False)\n",
    "plt.savefig(f'./screenshot/PRESERVE.png',dpi = 150,bbox_inches = 'tight')"
   ]
  },
  {
   "cell_type": "markdown",
   "metadata": {},
   "source": [
    "### DEELTE"
   ]
  },
  {
   "cell_type": "code",
   "execution_count": 243,
   "metadata": {},
   "outputs": [
    {
     "name": "stdout",
     "output_type": "stream",
     "text": [
      "[[3.5999999999999996, 5, -2.5], [1.2, 3, -2.5], [-2.4, -1, -2.5], [-4.8, -4.46, -2.5], [-4.8, -5, -2.5], [-4.8, -5, -2.5], [-8.4, -6, -2.5], [-9.6, -9.5, -2.5], [-12.0, -9.5, -2.5], [-12.0, -9.5, -20.0]]\n"
     ]
    },
    {
     "data": {
      "image/png": "[encoded data removed]",
      "text/plain": [
       "<Figure size 576x288 with 2 Axes>"
      ]
     },
     "metadata": {
      "needs_background": "light"
     },
     "output_type": "display_data"
    }
   ],
   "source": [
    "CHARM = [3, 1,-2,-4,-4,-4,-7,-8,-10,-10]\n",
    "SERVICE_REQUEST_FREQUENCY  = [5,3,-1, -4.46,-5,-5, -6, -9.5,-9.5,-9.5]\n",
    "IS_POPULAR= [5,5,5,5,5,5,5,5,5,40]\n",
    "\n",
    "SHAP= []\n",
    "N = len(CHARM)\n",
    "for I in range(N):\n",
    "    SHAP.append([CHARM[I]*1.2, SERVICE_REQUEST_FREQUENCY[I], IS_POPULAR[I]/2*-1])\n",
    "print(SHAP)\n",
    "\n",
    "#ADD NOSIE\n",
    "noise = np.random.normal(-0.5,0.5,size=(N,3))\n",
    "SHAP = np.array(SHAP) + noise\n",
    "\n",
    "\n",
    "shap_exp = shap.Explanation(values=np.array(SHAP),\n",
    "                            base_values=0,\n",
    "                            data=np.zeros_like(SHAP),\n",
    "                            feature_names=['charm','service_\\nreq_freq', 'is_popular'],\n",
    "                            )\n",
    "shap.plots.heatmap(shap_exp,show=False)\n",
    "plt.savefig(f'./screenshot/DELETE.png',dpi = 150,bbox_inches = 'tight')"
   ]
  }
 ],
 "metadata": {
  "kernelspec": {
   "display_name": "Python 3.9.9 64-bit",
   "language": "python",
   "name": "python3"
  },
  "language_info": {
   "codemirror_mode": {
    "name": "ipython",
    "version": 3
   },
   "file_extension": ".py",
   "mimetype": "text/x-python",
   "name": "python",
   "nbconvert_exporter": "python",
   "pygments_lexer": "ipython3",
   "version": "3.9.9"
  },
  "orig_nbformat": 4,
  "vscode": {
   "interpreter": {
    "hash": "3cc5292bf5c830798e60369264793d4ad446af4d95064df5045c9e5f7d07eceb"
   }
  }
 },
 "nbformat": 4,
 "nbformat_minor": 2
}
