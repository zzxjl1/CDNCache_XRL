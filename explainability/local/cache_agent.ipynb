{
 "cells": [
  {
   "cell_type": "code",
   "execution_count": null,
   "metadata": {},
   "outputs": [],
   "source": [
    "from D3QN import DuelingDeepQNetwork\n",
    "import torch\n",
    "import random\n",
    "import numpy as np\n",
    "from torch.utils.data import Dataset, DataLoader"
   ]
  },
  {
   "cell_type": "code",
   "execution_count": null,
   "metadata": {},
   "outputs": [],
   "source": [
    "ACTIONS= [\"IDLE\", \"L1\", \"L2\", \"L3\"]"
   ]
  },
  {
   "cell_type": "code",
   "execution_count": null,
   "metadata": {},
   "outputs": [],
   "source": [
    "cache_agent = DuelingDeepQNetwork(alpha=1e-3,\n",
    "                              state_dim=15,\n",
    "                              action_dim=len(ACTIONS),\n",
    "                              fc1_dim=64,\n",
    "                              fc2_dim=32)\n",
    "\n",
    "\n",
    "class MyDataset(Dataset):\n",
    "    def __init__(self, data, labels):\n",
    "        self.data = []\n",
    "        self.labels = []\n",
    "        self.gen()\n",
    "\n",
    "    def gen(self):\n",
    "        pass\n",
    "\n",
    "    def cold_start(self):\n",
    "        obs = {\n",
    "            \"ES_load\":random.uniform(0, 0.1),\n",
    "            \"free_storage_size_ratio_L1\":random.uniform(0, 0.1),\n",
    "            \"free_storage_size_ratio_L2\":random.uniform(0.9, 1),\n",
    "            \"free_storage_size_ratio_L3\":random.uniform(0.9, 1),\n",
    "            \"can_L1_fit\":1,\n",
    "            \"can_L2_fit\":1,\n",
    "            \"can_L3_fit\":1,\n",
    "            \"estimated_speed\":random.uniform(5, 100),\n",
    "            \"estimated_fetch_time\":random.uniform(1, 60),\n",
    "            \"is_popular\":0,\n",
    "            \"charm\":round(abs(np.random.standard_normal(1)[0]), 2),\n",
    "            \"service_request_frequency\":random.randint(0, 3),\n",
    "            \"nearby_servers_count\":random.uniform(0, 1),\n",
    "            \"cached_in_nearby_servers\":0,\n",
    "            \"ES_request_frequency\":random.uniform(0, 1)\n",
    "        }\n",
    "        return obs, \"L1\"\n",
    "\n",
    "    def __len__(self):\n",
    "        return len(self.data)\n",
    "\n",
    "    def __getitem__(self, index):\n",
    "        return self.data[index], self.labels[index]\n",
    "\n",
    "\n",
    "def train(network, epochs):\n",
    "    loss_func = torch.nn.CrossEntropyLoss()\n",
    "    dataset = MyDataset()\n",
    "    dataloader = DataLoader(dataset, batch_size=32, shuffle=True)\n",
    "    optimizer = network.optimizer\n",
    "    for i in range(epochs):\n",
    "        for data, labels in dataloader:\n",
    "            optimizer.zero_grad()\n",
    "            output = network(data)\n",
    "            loss = loss_func(output, labels)\n",
    "            loss.backward()\n",
    "            optimizer.step()\n",
    "            print(loss)\n",
    "\n",
    "\n",
    "train(cache_agent, 10)\n",
    "cache_agent.save_checkpoint('test.pth')\n"
   ]
  }
 ],
 "metadata": {
  "kernelspec": {
   "display_name": "Python 3.9.9 64-bit",
   "language": "python",
   "name": "python3"
  },
  "language_info": {
   "name": "python",
   "version": "3.9.9"
  },
  "orig_nbformat": 4,
  "vscode": {
   "interpreter": {
    "hash": "308fc2fe6b067f030c5852dab12bb33848fd6a9fa5aaaacd572d50d700aa3651"
   }
  }
 },
 "nbformat": 4,
 "nbformat_minor": 2
}
