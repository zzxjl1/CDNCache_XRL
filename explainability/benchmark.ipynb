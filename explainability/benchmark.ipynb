{
 "cells": [
  {
   "cell_type": "code",
   "execution_count": 6,
   "metadata": {},
   "outputs": [],
   "source": [
    "\n",
    "import torch\n",
    "import torch as T\n",
    "import torch.nn as nn\n",
    "import torch.optim as optim\n",
    "import torch.nn.functional as F\n",
    "import random\n",
    "import numpy as np\n",
    "import sys\n",
    "sys.path.append(\"../\")\n",
    "import D3QN\n",
    "\n",
    "\n",
    "device = T.device(\"cuda:0\" if T.cuda.is_available() else \"cpu\")\n",
    "\n",
    "class DuelingDeepQNetwork(nn.Module):\n",
    "    def __init__(self, alpha, state_dim, action_dim, fc1_dim, fc2_dim):\n",
    "        super(DuelingDeepQNetwork, self).__init__()\n",
    "\n",
    "        self.fc1 = nn.Linear(state_dim, fc1_dim)\n",
    "        self.fc2 = nn.Linear(fc1_dim, fc2_dim)\n",
    "        self.V = nn.Linear(fc2_dim, 1)\n",
    "        self.A = nn.Linear(fc2_dim, action_dim)\n",
    "\n",
    "        self.optimizer = optim.Adam(self.parameters(), lr=alpha)\n",
    "        self.to(device)\n",
    "\n",
    "    def forward(self, state):\n",
    "        x = T.relu(self.fc1(state))\n",
    "        x = T.relu(self.fc2(x))\n",
    "\n",
    "        V = self.V(x)\n",
    "        A = self.A(x)\n",
    "        Q = V + A - T.mean(A, dim=-1, keepdim=True)\n",
    "\n",
    "        return Q\n"
   ]
  },
  {
   "attachments": {},
   "cell_type": "markdown",
   "metadata": {},
   "source": [
    "cache agent"
   ]
  },
  {
   "cell_type": "code",
   "execution_count": 24,
   "metadata": {},
   "outputs": [
    {
     "name": "stdout",
     "output_type": "stream",
     "text": [
      "Inference Per Second: 5614.21\n"
     ]
    }
   ],
   "source": [
    "import time\n",
    "\n",
    "\n",
    "def gen():\n",
    "        L1_size = random.choice([4,8, 16, 32])\n",
    "        L2_size = random.choice([128,256,512])\n",
    "        L3_size = random.choice([500,600,700,1000])\n",
    "        servie_size=random.uniform(0.05, 10)\n",
    "\n",
    "        free_storage_size_ratio_L1 = random.uniform(0, 1)\n",
    "        free_storage_size_ratio_L2 = random.uniform(0, 1)\n",
    "        free_storage_size_ratio_L3 = random.uniform(0, 1)\n",
    "\n",
    "        obs = {\n",
    "            \"es_load\":random.uniform(0, 1),\n",
    "            \"free_storage_size_ratio_L1\":random.uniform(0, 1),\n",
    "            \"free_storage_size_ratio_L2\":random.uniform(0, 1),\n",
    "            \"free_storage_size_ratio_L3\":random.uniform(0, 1),\n",
    "            \"can_L1_fit\":free_storage_size_ratio_L1*servie_size<=L1_size,\n",
    "            \"can_L2_fit\":free_storage_size_ratio_L2*servie_size<=L2_size,\n",
    "            \"can_L3_fit\":free_storage_size_ratio_L3*servie_size<=L3_size,\n",
    "            \"servie_size\":random.uniform(50, 1000),\n",
    "            \"estimated_fetch_time\":random.uniform(1, 60),\n",
    "            \"is_popular\":0,\n",
    "            \"charm\":1,\n",
    "            \"service_request_frequency\":0,\n",
    "            \"nearby_servers_count\":0,\n",
    "            \"cached_in_nearby_servers\":0,\n",
    "            \"es_request_frequency\":0\n",
    "        }\n",
    "        return obs\n",
    "data = list(gen().values())\n",
    "data = torch.tensor(data).float()\n",
    "model = torch.load('./stages/final_2/cache_agent/5/D3QN_q_eval.pth')\n",
    "model.eval()\n",
    "\n",
    "\n",
    "\n",
    "# 在推理之前，进行一次预热\n",
    "with torch.no_grad():\n",
    "    model.forward(data)\n",
    "\n",
    "# 测量推理性能\n",
    "num_iterations = 100000  # 你可以根据需要调整迭代次数\n",
    "\n",
    "start_time = time.time()\n",
    "for _ in range(num_iterations):\n",
    "    with torch.no_grad():\n",
    "        model.forward(data)\n",
    "end_time = time.time()\n",
    "\n",
    "# 计算每秒推理次数（IPS）\n",
    "ips = num_iterations / (end_time - start_time)\n",
    "\n",
    "print(f\"Inference Per Second: {ips:.2f}\")\n"
   ]
  },
  {
   "attachments": {},
   "cell_type": "markdown",
   "metadata": {},
   "source": [
    "maintance agent"
   ]
  },
  {
   "cell_type": "code",
   "execution_count": 25,
   "metadata": {},
   "outputs": [
    {
     "name": "stdout",
     "output_type": "stream",
     "text": [
      "Inference Per Second: 5568.38\n"
     ]
    }
   ],
   "source": [
    "import time\n",
    "\n",
    "\n",
    "def gen():\n",
    "        loc = \"L1\"\n",
    "        obs = {\n",
    "            \"free_space_ratio\":random.uniform(0.8, 1),\n",
    "            \"service_size_ratio\":random.uniform(0, 0.1),\n",
    "            \"cached_in_L1\": loc == \"L1\",\n",
    "            \"cached_in_L2\": loc == \"L2\",\n",
    "            \"cached_in_L3\": loc == \"L3\",\n",
    "            \"service_charm\":random.randint(0, 5),\n",
    "            \"service_request_frequency\":0,\n",
    "            \"es_request_frequency\":random.uniform(0, 1),\n",
    "            \"es_cache_miss_rate\":random.uniform(0.8, 1),\n",
    "            \"least_freq_index\":random.randint(0, 2),\n",
    "            \"is_ugent\":0\n",
    "        }\n",
    "        return obs\n",
    "data = list(gen().values())\n",
    "data = torch.tensor(data).float()\n",
    "model = torch.load('./stages/final_2/maintainance_agent/5/D3QN_q_eval.pth')\n",
    "model.eval()\n",
    "\n",
    "\n",
    "\n",
    "# 在推理之前，进行一次预热\n",
    "with torch.no_grad():\n",
    "    model.forward(data)\n",
    "\n",
    "# 测量推理性能\n",
    "num_iterations = 100000  # 你可以根据需要调整迭代次数\n",
    "\n",
    "start_time = time.time()\n",
    "for _ in range(num_iterations):\n",
    "    with torch.no_grad():\n",
    "        model.forward(data)\n",
    "end_time = time.time()\n",
    "\n",
    "# 计算每秒推理次数（IPS）\n",
    "ips = num_iterations / (end_time - start_time)\n",
    "\n",
    "print(f\"Inference Per Second: {ips:.2f}\")\n"
   ]
  }
 ],
 "metadata": {
  "kernelspec": {
   "display_name": "Python 3",
   "language": "python",
   "name": "python3"
  },
  "language_info": {
   "codemirror_mode": {
    "name": "ipython",
    "version": 3
   },
   "file_extension": ".py",
   "mimetype": "text/x-python",
   "name": "python",
   "nbconvert_exporter": "python",
   "pygments_lexer": "ipython3",
   "version": "3.9.9"
  },
  "orig_nbformat": 4
 },
 "nbformat": 4,
 "nbformat_minor": 2
}
